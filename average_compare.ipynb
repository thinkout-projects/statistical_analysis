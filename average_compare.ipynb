{
 "cells": [
  {
   "cell_type": "code",
   "execution_count": 2,
   "metadata": {},
   "outputs": [],
   "source": [
    "import pandas as pd\n",
    "from scipy import stats\n",
    "import pingouin"
   ]
  },
  {
   "cell_type": "markdown",
   "metadata": {},
   "source": [
    "### まずデータを読み込む"
   ]
  },
  {
   "cell_type": "code",
   "execution_count": 3,
   "metadata": {},
   "outputs": [
    {
     "data": {
      "text/html": [
       "<div>\n",
       "<style scoped>\n",
       "    .dataframe tbody tr th:only-of-type {\n",
       "        vertical-align: middle;\n",
       "    }\n",
       "\n",
       "    .dataframe tbody tr th {\n",
       "        vertical-align: top;\n",
       "    }\n",
       "\n",
       "    .dataframe thead th {\n",
       "        text-align: right;\n",
       "    }\n",
       "</style>\n",
       "<table border=\"1\" class=\"dataframe\">\n",
       "  <thead>\n",
       "    <tr style=\"text-align: right;\">\n",
       "      <th></th>\n",
       "      <th>filename</th>\n",
       "      <th>ID</th>\n",
       "      <th>age</th>\n",
       "      <th>sex</th>\n",
       "      <th>LR</th>\n",
       "      <th>AMD</th>\n",
       "      <th>RVO</th>\n",
       "      <th>Gla</th>\n",
       "      <th>MH</th>\n",
       "      <th>DR</th>\n",
       "      <th>RD</th>\n",
       "      <th>RP</th>\n",
       "      <th>AO</th>\n",
       "      <th>DM</th>\n",
       "    </tr>\n",
       "  </thead>\n",
       "  <tbody>\n",
       "    <tr>\n",
       "      <th>0</th>\n",
       "      <td>000000_00.jpg</td>\n",
       "      <td>3090</td>\n",
       "      <td>78</td>\n",
       "      <td>M</td>\n",
       "      <td>L</td>\n",
       "      <td>0</td>\n",
       "      <td>0</td>\n",
       "      <td>0</td>\n",
       "      <td>0</td>\n",
       "      <td>0</td>\n",
       "      <td>0</td>\n",
       "      <td>0</td>\n",
       "      <td>0</td>\n",
       "      <td>0</td>\n",
       "    </tr>\n",
       "    <tr>\n",
       "      <th>1</th>\n",
       "      <td>000000_01.jpg</td>\n",
       "      <td>3090</td>\n",
       "      <td>78</td>\n",
       "      <td>M</td>\n",
       "      <td>R</td>\n",
       "      <td>0</td>\n",
       "      <td>0</td>\n",
       "      <td>0</td>\n",
       "      <td>0</td>\n",
       "      <td>0</td>\n",
       "      <td>0</td>\n",
       "      <td>0</td>\n",
       "      <td>0</td>\n",
       "      <td>0</td>\n",
       "    </tr>\n",
       "    <tr>\n",
       "      <th>2</th>\n",
       "      <td>000001_00.jpg</td>\n",
       "      <td>2702</td>\n",
       "      <td>76</td>\n",
       "      <td>F</td>\n",
       "      <td>L</td>\n",
       "      <td>0</td>\n",
       "      <td>0</td>\n",
       "      <td>0</td>\n",
       "      <td>0</td>\n",
       "      <td>0</td>\n",
       "      <td>0</td>\n",
       "      <td>0</td>\n",
       "      <td>0</td>\n",
       "      <td>0</td>\n",
       "    </tr>\n",
       "    <tr>\n",
       "      <th>3</th>\n",
       "      <td>000001_01.jpg</td>\n",
       "      <td>2702</td>\n",
       "      <td>76</td>\n",
       "      <td>F</td>\n",
       "      <td>R</td>\n",
       "      <td>0</td>\n",
       "      <td>0</td>\n",
       "      <td>0</td>\n",
       "      <td>0</td>\n",
       "      <td>0</td>\n",
       "      <td>0</td>\n",
       "      <td>0</td>\n",
       "      <td>0</td>\n",
       "      <td>0</td>\n",
       "    </tr>\n",
       "    <tr>\n",
       "      <th>4</th>\n",
       "      <td>000001_02.jpg</td>\n",
       "      <td>1136</td>\n",
       "      <td>69</td>\n",
       "      <td>M</td>\n",
       "      <td>L</td>\n",
       "      <td>0</td>\n",
       "      <td>0</td>\n",
       "      <td>1</td>\n",
       "      <td>0</td>\n",
       "      <td>0</td>\n",
       "      <td>0</td>\n",
       "      <td>0</td>\n",
       "      <td>0</td>\n",
       "      <td>0</td>\n",
       "    </tr>\n",
       "  </tbody>\n",
       "</table>\n",
       "</div>"
      ],
      "text/plain": [
       "        filename    ID  age sex LR  AMD  RVO  Gla  MH  DR  RD  RP  AO  DM\n",
       "0  000000_00.jpg  3090   78   M  L    0    0    0   0   0   0   0   0   0\n",
       "1  000000_01.jpg  3090   78   M  R    0    0    0   0   0   0   0   0   0\n",
       "2  000001_00.jpg  2702   76   F  L    0    0    0   0   0   0   0   0   0\n",
       "3  000001_01.jpg  2702   76   F  R    0    0    0   0   0   0   0   0   0\n",
       "4  000001_02.jpg  1136   69   M  L    0    0    1   0   0   0   0   0   0"
      ]
     },
     "execution_count": 3,
     "metadata": {},
     "output_type": "execute_result"
    }
   ],
   "source": [
    "df =pd.read_csv(\"data.csv\")\n",
    "df.head()"
   ]
  },
  {
   "cell_type": "markdown",
   "metadata": {},
   "source": [
    "# 2クラスの平均比較\n",
    "Welchのt検定を行う<br>\n",
    "2クラスの分散が等しいことを仮定しなくてよいので、非常に有用。全部これでやる。"
   ]
  },
  {
   "cell_type": "markdown",
   "metadata": {},
   "source": [
    "### AMD群とRVO群の年齢を比較する"
   ]
  },
  {
   "cell_type": "code",
   "execution_count": 4,
   "metadata": {},
   "outputs": [],
   "source": [
    "# データの読み込み\n",
    "age0 = df[df[\"AMD\"] == 1][\"age\"]\n",
    "age1 = df[df[\"RVO\"] == 1][\"age\"]"
   ]
  },
  {
   "cell_type": "code",
   "execution_count": 5,
   "metadata": {},
   "outputs": [
    {
     "data": {
      "text/plain": [
       "Ttest_indResult(statistic=13.674213613306113, pvalue=2.3130943335506705e-39)"
      ]
     },
     "execution_count": 5,
     "metadata": {},
     "output_type": "execute_result"
    }
   ],
   "source": [
    "# Welchのt検定\n",
    "stats.ttest_ind(age0, age1, equal_var = False)"
   ]
  },
  {
   "cell_type": "markdown",
   "metadata": {},
   "source": [
    "### テンプレート化\n",
    "2クラス間の平均値やｐ値などよく使うのは、この関数で十分"
   ]
  },
  {
   "cell_type": "code",
   "execution_count": 6,
   "metadata": {},
   "outputs": [],
   "source": [
    "# よくある平均±SD, p値を求める\n",
    "def compare_ave_2group(val0, val1, digit = 1, digit_p = 3):\n",
    "    mean0 = round(val0.mean(), digit)\n",
    "    std0 = round(val0.std(), digit)\n",
    "    mean1 = round(val1.mean(), digit)\n",
    "    std1 = round(val1.std(), digit)\n",
    "    p_value = round(stats.ttest_ind(val0, val1, equal_var = False)[1], digit_p)\n",
    "    return mean0, std0, mean1, std1, p_value"
   ]
  },
  {
   "cell_type": "code",
   "execution_count": 7,
   "metadata": {},
   "outputs": [
    {
     "data": {
      "text/plain": [
       "(75.3, 8.9, 66.8, 12.2, 0.0)"
      ]
     },
     "execution_count": 7,
     "metadata": {},
     "output_type": "execute_result"
    }
   ],
   "source": [
    "compare_ave_2group(age0, age1)"
   ]
  },
  {
   "cell_type": "markdown",
   "metadata": {},
   "source": [
    "# 3クラスの平均比較\n",
    "WelchのANOVAを行う<br>\n",
    "3クラスの分散が等しいことを仮定しなくてよいので、非常に有用。全部これでやる。"
   ]
  },
  {
   "cell_type": "markdown",
   "metadata": {},
   "source": [
    "### AMD群とRVO, DR群の年齢を比較する"
   ]
  },
  {
   "cell_type": "code",
   "execution_count": 17,
   "metadata": {},
   "outputs": [
    {
     "data": {
      "text/html": [
       "<div>\n",
       "<style scoped>\n",
       "    .dataframe tbody tr th:only-of-type {\n",
       "        vertical-align: middle;\n",
       "    }\n",
       "\n",
       "    .dataframe tbody tr th {\n",
       "        vertical-align: top;\n",
       "    }\n",
       "\n",
       "    .dataframe thead th {\n",
       "        text-align: right;\n",
       "    }\n",
       "</style>\n",
       "<table border=\"1\" class=\"dataframe\">\n",
       "  <thead>\n",
       "    <tr style=\"text-align: right;\">\n",
       "      <th></th>\n",
       "      <th>age</th>\n",
       "      <th>des</th>\n",
       "    </tr>\n",
       "  </thead>\n",
       "  <tbody>\n",
       "    <tr>\n",
       "      <th>11</th>\n",
       "      <td>88</td>\n",
       "      <td>AMD</td>\n",
       "    </tr>\n",
       "    <tr>\n",
       "      <th>50</th>\n",
       "      <td>77</td>\n",
       "      <td>AMD</td>\n",
       "    </tr>\n",
       "    <tr>\n",
       "      <th>62</th>\n",
       "      <td>72</td>\n",
       "      <td>AMD</td>\n",
       "    </tr>\n",
       "    <tr>\n",
       "      <th>65</th>\n",
       "      <td>73</td>\n",
       "      <td>AMD</td>\n",
       "    </tr>\n",
       "    <tr>\n",
       "      <th>76</th>\n",
       "      <td>69</td>\n",
       "      <td>AMD</td>\n",
       "    </tr>\n",
       "  </tbody>\n",
       "</table>\n",
       "</div>"
      ],
      "text/plain": [
       "    age  des\n",
       "11   88  AMD\n",
       "50   77  AMD\n",
       "62   72  AMD\n",
       "65   73  AMD\n",
       "76   69  AMD"
      ]
     },
     "execution_count": 17,
     "metadata": {},
     "output_type": "execute_result"
    }
   ],
   "source": [
    "# 病名の列と、検定したい値の列を並べる。（pingionの書体に合わせる）\n",
    "df_amd = pd.DataFrame(columns=[\"age\", \"des\"])\n",
    "df_rvo = pd.DataFrame(columns=[\"age\", \"des\"])\n",
    "df_dr = pd.DataFrame(columns=[\"age\", \"des\"])\n",
    "df_amd[\"age\"] = df[df[\"AMD\"] == 1][\"age\"]\n",
    "df_amd[\"des\"] = \"AMD\"\n",
    "df_rvo[\"age\"] = df[df[\"RVO\"] == 1][\"age\"]\n",
    "df_rvo[\"des\"] = \"RVO\"\n",
    "df_dr[\"age\"] = df[df[\"DR\"] == 1][\"age\"]\n",
    "df_dr[\"des\"] = \"DR\"\n",
    "dfs = pd.concat([df_amd, df_rvo, df_dr])\n",
    "dfs.head()"
   ]
  },
  {
   "cell_type": "markdown",
   "metadata": {},
   "source": [
    "### WelchのANOVAを行う\n",
    "welch_ANOVAのoutputなどの内容は<br>\n",
    "https://pingouin-stats.org/generated/pingouin.welch_anova.html#pingouin.welch_anova"
   ]
  },
  {
   "cell_type": "code",
   "execution_count": 18,
   "metadata": {},
   "outputs": [
    {
     "data": {
      "text/html": [
       "<div>\n",
       "<style scoped>\n",
       "    .dataframe tbody tr th:only-of-type {\n",
       "        vertical-align: middle;\n",
       "    }\n",
       "\n",
       "    .dataframe tbody tr th {\n",
       "        vertical-align: top;\n",
       "    }\n",
       "\n",
       "    .dataframe thead th {\n",
       "        text-align: right;\n",
       "    }\n",
       "</style>\n",
       "<table border=\"1\" class=\"dataframe\">\n",
       "  <thead>\n",
       "    <tr style=\"text-align: right;\">\n",
       "      <th></th>\n",
       "      <th>Source</th>\n",
       "      <th>ddof1</th>\n",
       "      <th>ddof2</th>\n",
       "      <th>F</th>\n",
       "      <th>p-unc</th>\n",
       "    </tr>\n",
       "  </thead>\n",
       "  <tbody>\n",
       "    <tr>\n",
       "      <th>0</th>\n",
       "      <td>des</td>\n",
       "      <td>2</td>\n",
       "      <td>992.771</td>\n",
       "      <td>280.043</td>\n",
       "      <td>3.639707e-97</td>\n",
       "    </tr>\n",
       "  </tbody>\n",
       "</table>\n",
       "</div>"
      ],
      "text/plain": [
       "  Source  ddof1    ddof2        F         p-unc\n",
       "0    des      2  992.771  280.043  3.639707e-97"
      ]
     },
     "execution_count": 18,
     "metadata": {},
     "output_type": "execute_result"
    }
   ],
   "source": [
    "aov = pingouin.welch_anova(dv='age', between='des', data=dfs)\n",
    "aov"
   ]
  },
  {
   "cell_type": "markdown",
   "metadata": {},
   "source": [
    "### Games-Howell法にて個別検定\n",
    "WelchのANOVAにて有意差を認めた（つまり、全体として差異がある）場合は、次は個別検定を行う<br>\n",
    "個別検定は、Games-Howell法でいい。<br>\n",
    "<br>\n",
    "Gameshowellのoutputなどの内容は<br>\n",
    "https://pingouin-stats.org/generated/pingouin.pairwise_gameshowell.html#pingouin.pairwise_gameshowell"
   ]
  },
  {
   "cell_type": "code",
   "execution_count": 21,
   "metadata": {},
   "outputs": [
    {
     "data": {
      "text/html": [
       "<div>\n",
       "<style scoped>\n",
       "    .dataframe tbody tr th:only-of-type {\n",
       "        vertical-align: middle;\n",
       "    }\n",
       "\n",
       "    .dataframe tbody tr th {\n",
       "        vertical-align: top;\n",
       "    }\n",
       "\n",
       "    .dataframe thead th {\n",
       "        text-align: right;\n",
       "    }\n",
       "</style>\n",
       "<table border=\"1\" class=\"dataframe\">\n",
       "  <thead>\n",
       "    <tr style=\"text-align: right;\">\n",
       "      <th></th>\n",
       "      <th>A</th>\n",
       "      <th>B</th>\n",
       "      <th>T</th>\n",
       "      <th>df</th>\n",
       "      <th>diff</th>\n",
       "      <th>hedges</th>\n",
       "      <th>mean(A)</th>\n",
       "      <th>mean(B)</th>\n",
       "      <th>pval</th>\n",
       "      <th>se</th>\n",
       "      <th>tail</th>\n",
       "    </tr>\n",
       "  </thead>\n",
       "  <tbody>\n",
       "    <tr>\n",
       "      <th>0</th>\n",
       "      <td>AMD</td>\n",
       "      <td>DR</td>\n",
       "      <td>23.600</td>\n",
       "      <td>611.941</td>\n",
       "      <td>11.459</td>\n",
       "      <td>1.231</td>\n",
       "      <td>75.327</td>\n",
       "      <td>63.868</td>\n",
       "      <td>0.001</td>\n",
       "      <td>0.343</td>\n",
       "      <td>two-sided</td>\n",
       "    </tr>\n",
       "    <tr>\n",
       "      <th>1</th>\n",
       "      <td>AMD</td>\n",
       "      <td>RVO</td>\n",
       "      <td>13.674</td>\n",
       "      <td>1074.948</td>\n",
       "      <td>8.480</td>\n",
       "      <td>0.832</td>\n",
       "      <td>75.327</td>\n",
       "      <td>66.847</td>\n",
       "      <td>0.001</td>\n",
       "      <td>0.439</td>\n",
       "      <td>two-sided</td>\n",
       "    </tr>\n",
       "    <tr>\n",
       "      <th>2</th>\n",
       "      <td>DR</td>\n",
       "      <td>RVO</td>\n",
       "      <td>-6.151</td>\n",
       "      <td>1150.243</td>\n",
       "      <td>-2.979</td>\n",
       "      <td>-0.245</td>\n",
       "      <td>63.868</td>\n",
       "      <td>66.847</td>\n",
       "      <td>0.001</td>\n",
       "      <td>0.342</td>\n",
       "      <td>two-sided</td>\n",
       "    </tr>\n",
       "  </tbody>\n",
       "</table>\n",
       "</div>"
      ],
      "text/plain": [
       "     A    B       T        df    diff  hedges  mean(A)  mean(B)   pval     se  \\\n",
       "0  AMD   DR  23.600   611.941  11.459   1.231   75.327   63.868  0.001  0.343   \n",
       "1  AMD  RVO  13.674  1074.948   8.480   0.832   75.327   66.847  0.001  0.439   \n",
       "2   DR  RVO  -6.151  1150.243  -2.979  -0.245   63.868   66.847  0.001  0.342   \n",
       "\n",
       "        tail  \n",
       "0  two-sided  \n",
       "1  two-sided  \n",
       "2  two-sided  "
      ]
     },
     "execution_count": 21,
     "metadata": {},
     "output_type": "execute_result"
    }
   ],
   "source": [
    "pingouin.pairwise_gameshowell(data=dfs, dv=\"age\", between='des')  "
   ]
  },
  {
   "cell_type": "markdown",
   "metadata": {},
   "source": [
    "### テンプレート化\n",
    "よく使うであろう多クラス間の平均など、ｐ値を算出"
   ]
  },
  {
   "cell_type": "code",
   "execution_count": 41,
   "metadata": {},
   "outputs": [],
   "source": [
    "# よくある平均±SD, p値を求める\n",
    "# tagと値の配列のペアとなっているdictionaryが投入される\n",
    "# 全体で有意差があったか、タグと(平均, SD)のセット、ANOVAの結果のDataFrame, Games-Howellの結果のDataFrameが出力\n",
    "def compare_ave_multi(dics, digit = 1):\n",
    "    df_val = pd.DataFrame()\n",
    "    vals = {}\n",
    "    for key in dics.keys():\n",
    "        dfs = pd.DataFrame()\n",
    "        dfs[\"val\"] = dics[key]\n",
    "        dfs[\"tag\"] = key\n",
    "        df_val = df_val.append(dfs)\n",
    "        vals[key] = (round(dics[key].mean(), digit), round(dics[key].std(), digit))\n",
    "    aov = pingouin.welch_anova(dv='val', between='tag', data=df_val)\n",
    "    anova_p = aov[\"p-unc\"][0]\n",
    "    if anova_p > 0.05:\n",
    "        return False, vals,  [aov, None]\n",
    "    else:\n",
    "        ghs = pingouin.pairwise_gameshowell(data=df_val, dv=\"val\", between='tag')  \n",
    "        return True, vals, [aov, ghs]"
   ]
  },
  {
   "cell_type": "markdown",
   "metadata": {},
   "source": [
    "### 使用例"
   ]
  },
  {
   "cell_type": "code",
   "execution_count": 45,
   "metadata": {},
   "outputs": [],
   "source": [
    "df =pd.read_csv(\"data.csv\")\n",
    "digit = 1\n",
    "dics = {}\n",
    "tags = [\"AMD\", \"RVO\", \"DR\"]\n",
    "for tag in tags:\n",
    "    dics[tag] = df[df[tag] == 1][\"age\"]\n",
    "res = compare_ave_multi(dics)"
   ]
  },
  {
   "cell_type": "code",
   "execution_count": 46,
   "metadata": {},
   "outputs": [
    {
     "data": {
      "text/plain": [
       "(True, {'AMD': (75.3, 8.9), 'DR': (63.9, 11.9), 'RVO': (66.8, 12.2)})"
      ]
     },
     "execution_count": 46,
     "metadata": {},
     "output_type": "execute_result"
    }
   ],
   "source": [
    "res[0], res[1]"
   ]
  },
  {
   "cell_type": "code",
   "execution_count": 48,
   "metadata": {},
   "outputs": [
    {
     "data": {
      "text/html": [
       "<div>\n",
       "<style scoped>\n",
       "    .dataframe tbody tr th:only-of-type {\n",
       "        vertical-align: middle;\n",
       "    }\n",
       "\n",
       "    .dataframe tbody tr th {\n",
       "        vertical-align: top;\n",
       "    }\n",
       "\n",
       "    .dataframe thead th {\n",
       "        text-align: right;\n",
       "    }\n",
       "</style>\n",
       "<table border=\"1\" class=\"dataframe\">\n",
       "  <thead>\n",
       "    <tr style=\"text-align: right;\">\n",
       "      <th></th>\n",
       "      <th>Source</th>\n",
       "      <th>ddof1</th>\n",
       "      <th>ddof2</th>\n",
       "      <th>F</th>\n",
       "      <th>p-unc</th>\n",
       "    </tr>\n",
       "  </thead>\n",
       "  <tbody>\n",
       "    <tr>\n",
       "      <th>0</th>\n",
       "      <td>tag</td>\n",
       "      <td>2</td>\n",
       "      <td>992.771</td>\n",
       "      <td>280.043</td>\n",
       "      <td>3.639707e-97</td>\n",
       "    </tr>\n",
       "  </tbody>\n",
       "</table>\n",
       "</div>"
      ],
      "text/plain": [
       "  Source  ddof1    ddof2        F         p-unc\n",
       "0    tag      2  992.771  280.043  3.639707e-97"
      ]
     },
     "execution_count": 48,
     "metadata": {},
     "output_type": "execute_result"
    }
   ],
   "source": [
    "res[2][0]"
   ]
  },
  {
   "cell_type": "code",
   "execution_count": 50,
   "metadata": {},
   "outputs": [
    {
     "data": {
      "text/html": [
       "<div>\n",
       "<style scoped>\n",
       "    .dataframe tbody tr th:only-of-type {\n",
       "        vertical-align: middle;\n",
       "    }\n",
       "\n",
       "    .dataframe tbody tr th {\n",
       "        vertical-align: top;\n",
       "    }\n",
       "\n",
       "    .dataframe thead th {\n",
       "        text-align: right;\n",
       "    }\n",
       "</style>\n",
       "<table border=\"1\" class=\"dataframe\">\n",
       "  <thead>\n",
       "    <tr style=\"text-align: right;\">\n",
       "      <th></th>\n",
       "      <th>A</th>\n",
       "      <th>B</th>\n",
       "      <th>T</th>\n",
       "      <th>df</th>\n",
       "      <th>diff</th>\n",
       "      <th>hedges</th>\n",
       "      <th>mean(A)</th>\n",
       "      <th>mean(B)</th>\n",
       "      <th>pval</th>\n",
       "      <th>se</th>\n",
       "      <th>tail</th>\n",
       "    </tr>\n",
       "  </thead>\n",
       "  <tbody>\n",
       "    <tr>\n",
       "      <th>0</th>\n",
       "      <td>AMD</td>\n",
       "      <td>DR</td>\n",
       "      <td>23.600</td>\n",
       "      <td>611.941</td>\n",
       "      <td>11.459</td>\n",
       "      <td>1.231</td>\n",
       "      <td>75.327</td>\n",
       "      <td>63.868</td>\n",
       "      <td>0.001</td>\n",
       "      <td>0.343</td>\n",
       "      <td>two-sided</td>\n",
       "    </tr>\n",
       "    <tr>\n",
       "      <th>1</th>\n",
       "      <td>AMD</td>\n",
       "      <td>RVO</td>\n",
       "      <td>13.674</td>\n",
       "      <td>1074.948</td>\n",
       "      <td>8.480</td>\n",
       "      <td>0.832</td>\n",
       "      <td>75.327</td>\n",
       "      <td>66.847</td>\n",
       "      <td>0.001</td>\n",
       "      <td>0.439</td>\n",
       "      <td>two-sided</td>\n",
       "    </tr>\n",
       "    <tr>\n",
       "      <th>2</th>\n",
       "      <td>DR</td>\n",
       "      <td>RVO</td>\n",
       "      <td>-6.151</td>\n",
       "      <td>1150.243</td>\n",
       "      <td>-2.979</td>\n",
       "      <td>-0.245</td>\n",
       "      <td>63.868</td>\n",
       "      <td>66.847</td>\n",
       "      <td>0.001</td>\n",
       "      <td>0.342</td>\n",
       "      <td>two-sided</td>\n",
       "    </tr>\n",
       "  </tbody>\n",
       "</table>\n",
       "</div>"
      ],
      "text/plain": [
       "     A    B       T        df    diff  hedges  mean(A)  mean(B)   pval     se  \\\n",
       "0  AMD   DR  23.600   611.941  11.459   1.231   75.327   63.868  0.001  0.343   \n",
       "1  AMD  RVO  13.674  1074.948   8.480   0.832   75.327   66.847  0.001  0.439   \n",
       "2   DR  RVO  -6.151  1150.243  -2.979  -0.245   63.868   66.847  0.001  0.342   \n",
       "\n",
       "        tail  \n",
       "0  two-sided  \n",
       "1  two-sided  \n",
       "2  two-sided  "
      ]
     },
     "execution_count": 50,
     "metadata": {},
     "output_type": "execute_result"
    }
   ],
   "source": [
    "res[2][1]"
   ]
  },
  {
   "cell_type": "code",
   "execution_count": null,
   "metadata": {},
   "outputs": [],
   "source": []
  }
 ],
 "metadata": {
  "kernelspec": {
   "display_name": "Python 3",
   "language": "python",
   "name": "python3"
  },
  "language_info": {
   "codemirror_mode": {
    "name": "ipython",
    "version": 3
   },
   "file_extension": ".py",
   "mimetype": "text/x-python",
   "name": "python",
   "nbconvert_exporter": "python",
   "pygments_lexer": "ipython3",
   "version": "3.5.4"
  },
  "latex_envs": {
   "LaTeX_envs_menu_present": true,
   "autoclose": false,
   "autocomplete": true,
   "bibliofile": "biblio.bib",
   "cite_by": "apalike",
   "current_citInitial": 1,
   "eqLabelWithNumbers": true,
   "eqNumInitial": 1,
   "hotkeys": {
    "equation": "Ctrl-E",
    "itemize": "Ctrl-I"
   },
   "labels_anchors": false,
   "latex_user_defs": false,
   "report_style_numbering": false,
   "user_envs_cfg": false
  }
 },
 "nbformat": 4,
 "nbformat_minor": 2
}
