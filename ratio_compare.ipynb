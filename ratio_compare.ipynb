{
 "cells": [
  {
   "cell_type": "code",
   "execution_count": 1,
   "metadata": {},
   "outputs": [],
   "source": [
    "import pandas as pd\n",
    "from scipy import stats\n",
    "import numpy as np"
   ]
  },
  {
   "cell_type": "markdown",
   "metadata": {},
   "source": [
    "### まずデータを読み込む"
   ]
  },
  {
   "cell_type": "code",
   "execution_count": 2,
   "metadata": {},
   "outputs": [
    {
     "data": {
      "text/html": [
       "<div>\n",
       "<style scoped>\n",
       "    .dataframe tbody tr th:only-of-type {\n",
       "        vertical-align: middle;\n",
       "    }\n",
       "\n",
       "    .dataframe tbody tr th {\n",
       "        vertical-align: top;\n",
       "    }\n",
       "\n",
       "    .dataframe thead th {\n",
       "        text-align: right;\n",
       "    }\n",
       "</style>\n",
       "<table border=\"1\" class=\"dataframe\">\n",
       "  <thead>\n",
       "    <tr style=\"text-align: right;\">\n",
       "      <th></th>\n",
       "      <th>filename</th>\n",
       "      <th>ID</th>\n",
       "      <th>age</th>\n",
       "      <th>sex</th>\n",
       "      <th>LR</th>\n",
       "      <th>AMD</th>\n",
       "      <th>RVO</th>\n",
       "      <th>Gla</th>\n",
       "      <th>MH</th>\n",
       "      <th>DR</th>\n",
       "      <th>RD</th>\n",
       "      <th>RP</th>\n",
       "      <th>AO</th>\n",
       "      <th>DM</th>\n",
       "    </tr>\n",
       "  </thead>\n",
       "  <tbody>\n",
       "    <tr>\n",
       "      <th>0</th>\n",
       "      <td>000000_00.jpg</td>\n",
       "      <td>3090</td>\n",
       "      <td>78</td>\n",
       "      <td>M</td>\n",
       "      <td>L</td>\n",
       "      <td>0</td>\n",
       "      <td>0</td>\n",
       "      <td>0</td>\n",
       "      <td>0</td>\n",
       "      <td>0</td>\n",
       "      <td>0</td>\n",
       "      <td>0</td>\n",
       "      <td>0</td>\n",
       "      <td>0</td>\n",
       "    </tr>\n",
       "    <tr>\n",
       "      <th>1</th>\n",
       "      <td>000000_01.jpg</td>\n",
       "      <td>3090</td>\n",
       "      <td>78</td>\n",
       "      <td>M</td>\n",
       "      <td>R</td>\n",
       "      <td>0</td>\n",
       "      <td>0</td>\n",
       "      <td>0</td>\n",
       "      <td>0</td>\n",
       "      <td>0</td>\n",
       "      <td>0</td>\n",
       "      <td>0</td>\n",
       "      <td>0</td>\n",
       "      <td>0</td>\n",
       "    </tr>\n",
       "    <tr>\n",
       "      <th>2</th>\n",
       "      <td>000001_00.jpg</td>\n",
       "      <td>2702</td>\n",
       "      <td>76</td>\n",
       "      <td>F</td>\n",
       "      <td>L</td>\n",
       "      <td>0</td>\n",
       "      <td>0</td>\n",
       "      <td>0</td>\n",
       "      <td>0</td>\n",
       "      <td>0</td>\n",
       "      <td>0</td>\n",
       "      <td>0</td>\n",
       "      <td>0</td>\n",
       "      <td>0</td>\n",
       "    </tr>\n",
       "    <tr>\n",
       "      <th>3</th>\n",
       "      <td>000001_01.jpg</td>\n",
       "      <td>2702</td>\n",
       "      <td>76</td>\n",
       "      <td>F</td>\n",
       "      <td>R</td>\n",
       "      <td>0</td>\n",
       "      <td>0</td>\n",
       "      <td>0</td>\n",
       "      <td>0</td>\n",
       "      <td>0</td>\n",
       "      <td>0</td>\n",
       "      <td>0</td>\n",
       "      <td>0</td>\n",
       "      <td>0</td>\n",
       "    </tr>\n",
       "    <tr>\n",
       "      <th>4</th>\n",
       "      <td>000001_02.jpg</td>\n",
       "      <td>1136</td>\n",
       "      <td>69</td>\n",
       "      <td>M</td>\n",
       "      <td>L</td>\n",
       "      <td>0</td>\n",
       "      <td>0</td>\n",
       "      <td>1</td>\n",
       "      <td>0</td>\n",
       "      <td>0</td>\n",
       "      <td>0</td>\n",
       "      <td>0</td>\n",
       "      <td>0</td>\n",
       "      <td>0</td>\n",
       "    </tr>\n",
       "  </tbody>\n",
       "</table>\n",
       "</div>"
      ],
      "text/plain": [
       "        filename    ID  age sex LR  AMD  RVO  Gla  MH  DR  RD  RP  AO  DM\n",
       "0  000000_00.jpg  3090   78   M  L    0    0    0   0   0   0   0   0   0\n",
       "1  000000_01.jpg  3090   78   M  R    0    0    0   0   0   0   0   0   0\n",
       "2  000001_00.jpg  2702   76   F  L    0    0    0   0   0   0   0   0   0\n",
       "3  000001_01.jpg  2702   76   F  R    0    0    0   0   0   0   0   0   0\n",
       "4  000001_02.jpg  1136   69   M  L    0    0    1   0   0   0   0   0   0"
      ]
     },
     "execution_count": 2,
     "metadata": {},
     "output_type": "execute_result"
    }
   ],
   "source": [
    "df =pd.read_csv(\"data.csv\")\n",
    "df.head()"
   ]
  },
  {
   "cell_type": "markdown",
   "metadata": {},
   "source": [
    "# 2クラスの比率比較\n",
    "Fisherの正確検定を行う<br>\n",
    "np < 5だとX<sup>2</sup>検定だと行えないみたいな仮定が必要ない"
   ]
  },
  {
   "cell_type": "markdown",
   "metadata": {},
   "source": [
    "### AMD群とRVO群の女性比率を比較する"
   ]
  },
  {
   "cell_type": "code",
   "execution_count": 4,
   "metadata": {},
   "outputs": [],
   "source": [
    "# データの読み込み\n",
    "sex0 = df[df[\"AMD\"] == 1][\"sex\"]\n",
    "sex1 = df[df[\"RVO\"] == 1][\"sex\"]"
   ]
  },
  {
   "cell_type": "markdown",
   "metadata": {},
   "source": [
    "### テンプレート化\n",
    "比較したいデータを二つおよび、なんという内容が出てくる比率を比較するかを検定するかを指定する。<br>\n",
    "k0, n0, 比率が2群とも、およびFisherの正確検定を行ったp値が出力される"
   ]
  },
  {
   "cell_type": "code",
   "execution_count": 3,
   "metadata": {},
   "outputs": [],
   "source": [
    "def compare_ratio_2group(val0, val1, target, digit = 3, digit_p = 3):\n",
    "    n0 = len(val0)\n",
    "    k0 = np.sum(val0 == target)\n",
    "    n1 = len(val1)\n",
    "    k1 = np.sum(val1 == target)\n",
    "    res = stats.fisher_exact([[k0, n0-k0], [k1, n1-k1]])\n",
    "    return [k0, n0, round(k0/n0, digit)], [k1, n1, round(k1/n1, digit)], round(res[1], digit_p)"
   ]
  },
  {
   "cell_type": "code",
   "execution_count": 5,
   "metadata": {},
   "outputs": [
    {
     "data": {
      "text/plain": [
       "([110, 413, 0.266], [367, 778, 0.472], 0.0)"
      ]
     },
     "execution_count": 5,
     "metadata": {},
     "output_type": "execute_result"
    }
   ],
   "source": [
    "compare_ratio_2group(sex0, sex1, \"F\")"
   ]
  },
  {
   "cell_type": "markdown",
   "metadata": {},
   "source": [
    "# 3クラスの比率比較\n",
    "Fisherの正確検定を行う<br>\n",
    "その際に、p値を補正する。\n",
    "Bonferroni, Holm, Hochberg法というのがあるが、Hochberg法を採用"
   ]
  },
  {
   "cell_type": "markdown",
   "metadata": {},
   "source": [
    "### AMD群とRVO, DR群の性別を比較する"
   ]
  },
  {
   "cell_type": "markdown",
   "metadata": {},
   "source": [
    "### テンプレート化\n",
    "よく使うであろう多クラス間の比率の値、p値を算出"
   ]
  },
  {
   "cell_type": "code",
   "execution_count": 62,
   "metadata": {},
   "outputs": [],
   "source": [
    "# よくあるk, n, k/n(比率)を求める\n",
    "# tagと値の配列のペアとなっているdictionaryが投入される\n",
    "# どの組み合わせで有意差があったか、タグと(k, n, k/n)のセット、Fisher exact test with\n",
    "# Hochbergの結果DataFrameが出力される\n",
    "\n",
    "def compare_ratio_multi(dics, target, digit = 3):\n",
    "    tags = list(dics.keys())\n",
    "    vals = {}\n",
    "    for tag in tags:\n",
    "        n = len(dics[tag])\n",
    "        k = np.sum(dics[tag] == target)\n",
    "        vals[tag] = (n, k, round(k/n, digit))    \n",
    "    \n",
    "    datas = []\n",
    "    for i1, tag1 in enumerate(tags):\n",
    "        for i2, tag2 in enumerate(tags):\n",
    "            if i1 < i2:\n",
    "                    n1 = len(dics[tag1])\n",
    "                    k1 = np.sum(dics[tag1] == target)\n",
    "                    n2 = len(dics[tag2])\n",
    "                    k2 = np.sum(dics[tag2] == target)\n",
    "                    res = stats.fisher_exact([[k1, n1-k1], [k2, n2-k2]])[1]\n",
    "                    datas.append([tag1, tag2, res])\n",
    "    df_result = pd.DataFrame(data=datas, columns=[\"Tag1\", \"Tag2\", \"p-value\"])\n",
    "    df_result = df_result.sort_values(by=\"p-value\", ascending=True).reset_index(drop=True)\n",
    "    ps = df_result[\"p-value\"]\n",
    "    n = len(ps)\n",
    "    newps = [p*(n-i) for i, p in enumerate(ps)]\n",
    "    df_result[\"p-value adjust\"] = newps\n",
    "    res = np.any(np.array(newps) < 0.05)\n",
    "    return res, vals, df_result"
   ]
  },
  {
   "cell_type": "code",
   "execution_count": 63,
   "metadata": {},
   "outputs": [
    {
     "data": {
      "text/plain": [
       "(True,\n",
       " {'AMD': (413, 110, 0.266),\n",
       "  'DR': (3323, 1287, 0.387),\n",
       "  'RVO': (778, 367, 0.472)},\n",
       "   Tag1 Tag2       p-value  p-value adjust\n",
       " 0  AMD  RVO  4.151636e-12    1.245491e-11\n",
       " 1   DR  AMD  1.128645e-06    2.257290e-06\n",
       " 2   DR  RVO  1.973059e-05    1.973059e-05)"
      ]
     },
     "execution_count": 63,
     "metadata": {},
     "output_type": "execute_result"
    }
   ],
   "source": [
    "df =pd.read_csv(\"data.csv\")\n",
    "target = \"F\"\n",
    "digit = 1\n",
    "dics = {}\n",
    "tags = [\"AMD\", \"RVO\", \"DR\"]\n",
    "for tag in tags:\n",
    "    dics[tag] = df[df[tag] == 1][\"sex\"]\n",
    "compare_ratio_multi(dics, target)"
   ]
  },
  {
   "cell_type": "code",
   "execution_count": null,
   "metadata": {},
   "outputs": [],
   "source": []
  },
  {
   "cell_type": "code",
   "execution_count": null,
   "metadata": {},
   "outputs": [],
   "source": []
  }
 ],
 "metadata": {
  "kernelspec": {
   "display_name": "Python 3",
   "language": "python",
   "name": "python3"
  },
  "language_info": {
   "codemirror_mode": {
    "name": "ipython",
    "version": 3
   },
   "file_extension": ".py",
   "mimetype": "text/x-python",
   "name": "python",
   "nbconvert_exporter": "python",
   "pygments_lexer": "ipython3",
   "version": "3.5.4"
  },
  "latex_envs": {
   "LaTeX_envs_menu_present": true,
   "autoclose": false,
   "autocomplete": true,
   "bibliofile": "biblio.bib",
   "cite_by": "apalike",
   "current_citInitial": 1,
   "eqLabelWithNumbers": true,
   "eqNumInitial": 1,
   "hotkeys": {
    "equation": "Ctrl-E",
    "itemize": "Ctrl-I"
   },
   "labels_anchors": false,
   "latex_user_defs": false,
   "report_style_numbering": false,
   "user_envs_cfg": false
  }
 },
 "nbformat": 4,
 "nbformat_minor": 2
}
