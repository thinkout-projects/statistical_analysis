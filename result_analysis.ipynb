{
 "cells": [
  {
   "cell_type": "code",
   "execution_count": 102,
   "metadata": {},
   "outputs": [],
   "source": [
    "import numpy as np\n",
    "import pandas as pd\n",
    "import matplotlib.pyplot as plt\n",
    "from sklearn.metrics import roc_curve, roc_auc_score\n",
    "from scipy import stats\n",
    "from math import sqrt, exp\n",
    "import seaborn as sns\n",
    "%matplotlib inline"
   ]
  },
  {
   "cell_type": "markdown",
   "metadata": {},
   "source": [
    "# データ説明\n",
    "filenameはfile名<br>\n",
    "trueは実際のクラス番号（この中で、0は正常、その他は異常）<br>\n",
    "predictはAI予想のクラス番号<br>\n",
    "00-06までは各クラスのAIが予測した出力<br>\n",
    "tbはtrueが0なら0、その他なら1 (つまり、正常なら0、異常なら1)<br>\n",
    "pbはAI予想の正常異常タグ<br>\n",
    "over01は01-06の合計、つまりAIが予測した異常確率<br>\n",
    "over02は02-06の合計、相関係数の算出にて使う<br>"
   ]
  },
  {
   "cell_type": "code",
   "execution_count": 82,
   "metadata": {},
   "outputs": [
    {
     "data": {
      "text/html": [
       "<div>\n",
       "<style scoped>\n",
       "    .dataframe tbody tr th:only-of-type {\n",
       "        vertical-align: middle;\n",
       "    }\n",
       "\n",
       "    .dataframe tbody tr th {\n",
       "        vertical-align: top;\n",
       "    }\n",
       "\n",
       "    .dataframe thead th {\n",
       "        text-align: right;\n",
       "    }\n",
       "</style>\n",
       "<table border=\"1\" class=\"dataframe\">\n",
       "  <thead>\n",
       "    <tr style=\"text-align: right;\">\n",
       "      <th></th>\n",
       "      <th>filename</th>\n",
       "      <th>true</th>\n",
       "      <th>predict</th>\n",
       "      <th>00</th>\n",
       "      <th>01</th>\n",
       "      <th>02</th>\n",
       "      <th>03</th>\n",
       "      <th>04</th>\n",
       "      <th>05</th>\n",
       "      <th>06</th>\n",
       "      <th>tb</th>\n",
       "      <th>pb</th>\n",
       "      <th>over01</th>\n",
       "      <th>over02</th>\n",
       "    </tr>\n",
       "  </thead>\n",
       "  <tbody>\n",
       "    <tr>\n",
       "      <th>0</th>\n",
       "      <td>0</td>\n",
       "      <td>5</td>\n",
       "      <td>3</td>\n",
       "      <td>0.000003</td>\n",
       "      <td>0.002729</td>\n",
       "      <td>0.000424</td>\n",
       "      <td>0.531146</td>\n",
       "      <td>0.080503</td>\n",
       "      <td>0.384158</td>\n",
       "      <td>0.001035</td>\n",
       "      <td>1</td>\n",
       "      <td>1</td>\n",
       "      <td>0.999997</td>\n",
       "      <td>0.997267</td>\n",
       "    </tr>\n",
       "    <tr>\n",
       "      <th>1</th>\n",
       "      <td>1</td>\n",
       "      <td>2</td>\n",
       "      <td>2</td>\n",
       "      <td>0.054342</td>\n",
       "      <td>0.023169</td>\n",
       "      <td>0.529376</td>\n",
       "      <td>0.037848</td>\n",
       "      <td>0.083393</td>\n",
       "      <td>0.058237</td>\n",
       "      <td>0.213634</td>\n",
       "      <td>1</td>\n",
       "      <td>1</td>\n",
       "      <td>0.945658</td>\n",
       "      <td>0.922489</td>\n",
       "    </tr>\n",
       "    <tr>\n",
       "      <th>2</th>\n",
       "      <td>2</td>\n",
       "      <td>2</td>\n",
       "      <td>2</td>\n",
       "      <td>0.008336</td>\n",
       "      <td>0.042994</td>\n",
       "      <td>0.670757</td>\n",
       "      <td>0.021298</td>\n",
       "      <td>0.047873</td>\n",
       "      <td>0.013001</td>\n",
       "      <td>0.195741</td>\n",
       "      <td>1</td>\n",
       "      <td>1</td>\n",
       "      <td>0.991664</td>\n",
       "      <td>0.948670</td>\n",
       "    </tr>\n",
       "    <tr>\n",
       "      <th>3</th>\n",
       "      <td>3</td>\n",
       "      <td>4</td>\n",
       "      <td>6</td>\n",
       "      <td>0.046755</td>\n",
       "      <td>0.004052</td>\n",
       "      <td>0.108306</td>\n",
       "      <td>0.009291</td>\n",
       "      <td>0.039530</td>\n",
       "      <td>0.164362</td>\n",
       "      <td>0.627703</td>\n",
       "      <td>1</td>\n",
       "      <td>1</td>\n",
       "      <td>0.953245</td>\n",
       "      <td>0.949193</td>\n",
       "    </tr>\n",
       "    <tr>\n",
       "      <th>4</th>\n",
       "      <td>4</td>\n",
       "      <td>3</td>\n",
       "      <td>3</td>\n",
       "      <td>0.000002</td>\n",
       "      <td>0.000069</td>\n",
       "      <td>0.002111</td>\n",
       "      <td>0.990379</td>\n",
       "      <td>0.001681</td>\n",
       "      <td>0.004340</td>\n",
       "      <td>0.001418</td>\n",
       "      <td>1</td>\n",
       "      <td>1</td>\n",
       "      <td>0.999998</td>\n",
       "      <td>0.999929</td>\n",
       "    </tr>\n",
       "  </tbody>\n",
       "</table>\n",
       "</div>"
      ],
      "text/plain": [
       "   filename  true  predict        00        01        02        03        04  \\\n",
       "0         0     5        3  0.000003  0.002729  0.000424  0.531146  0.080503   \n",
       "1         1     2        2  0.054342  0.023169  0.529376  0.037848  0.083393   \n",
       "2         2     2        2  0.008336  0.042994  0.670757  0.021298  0.047873   \n",
       "3         3     4        6  0.046755  0.004052  0.108306  0.009291  0.039530   \n",
       "4         4     3        3  0.000002  0.000069  0.002111  0.990379  0.001681   \n",
       "\n",
       "         05        06  tb  pb    over01    over02  \n",
       "0  0.384158  0.001035   1   1  0.999997  0.997267  \n",
       "1  0.058237  0.213634   1   1  0.945658  0.922489  \n",
       "2  0.013001  0.195741   1   1  0.991664  0.948670  \n",
       "3  0.164362  0.627703   1   1  0.953245  0.949193  \n",
       "4  0.004340  0.001418   1   1  0.999998  0.999929  "
      ]
     },
     "execution_count": 82,
     "metadata": {},
     "output_type": "execute_result"
    }
   ],
   "source": [
    "df = pd.read_csv(\"data2.csv\")\n",
    "df.head()"
   ]
  },
  {
   "cell_type": "markdown",
   "metadata": {},
   "source": [
    "### 2クラス分類 (tb, over01)\n",
    "1) AUC <br>\n",
    "2) ROC曲線 <br>\n",
    "3) 感度・特異度 (over01 > 0.5と実際の回答で比較) <br>"
   ]
  },
  {
   "cell_type": "markdown",
   "metadata": {},
   "source": [
    "##### 1) AUC"
   ]
  },
  {
   "cell_type": "code",
   "execution_count": 83,
   "metadata": {},
   "outputs": [],
   "source": [
    "def roc_auc_ci(y_true, y_score, digit = 3, alpha = 0.95):\n",
    "    AUC = roc_auc_score(y_true, y_score)\n",
    "    N1 = sum(y_true == 1)\n",
    "    N2 = sum(y_true != 1)\n",
    "    Q1 = AUC / (2 - AUC)\n",
    "    Q2 = 2*AUC**2 / (1 + AUC)\n",
    "    SE_AUC = sqrt((AUC*(1 - AUC) + (N1 - 1)*(Q1 - AUC**2) + (N2 - 1)*(Q2 - AUC**2)) / (N1*N2))\n",
    "    ratio = 0.5 + 0.5 * alpha\n",
    "    lower = AUC - stats.norm.ppf(ratio) *SE_AUC\n",
    "    upper = AUC + stats.norm.ppf(ratio) *SE_AUC\n",
    "    if lower < 0:\n",
    "        lower = 0\n",
    "    if upper > 1:\n",
    "        upper = 1\n",
    "    return round(AUC,digit), (round(lower,digit), round(upper, digit))"
   ]
  },
  {
   "cell_type": "code",
   "execution_count": 84,
   "metadata": {},
   "outputs": [
    {
     "data": {
      "text/plain": [
       "(0.98, (0.957, 1))"
      ]
     },
     "execution_count": 84,
     "metadata": {},
     "output_type": "execute_result"
    }
   ],
   "source": [
    "roc_auc_ci(df[\"tb\"], df[\"over01\"])"
   ]
  },
  {
   "cell_type": "markdown",
   "metadata": {},
   "source": [
    "##### 2) ROC曲線"
   ]
  },
  {
   "cell_type": "code",
   "execution_count": 94,
   "metadata": {},
   "outputs": [
    {
     "data": {
      "text/plain": [
       "(0, 1.02)"
      ]
     },
     "execution_count": 94,
     "metadata": {},
     "output_type": "execute_result"
    },
    {
     "data": {
      "image/png": "[encoded data removed]",
      "text/plain": [
       "<Figure size 432x288 with 1 Axes>"
      ]
     },
     "metadata": {},
     "output_type": "display_data"
    }
   ],
   "source": [
    "fpr, tpr, thresholds = roc_curve(df[\"tb\"], df[\"over01\"])\n",
    "sns.set_style(\"ticks\")\n",
    "sns.lineplot(x=fpr, y=tpr, ci=None)\n",
    "sns.despine()\n",
    "plt.xlabel('FPR: False positive rate')\n",
    "plt.ylabel('TPR: True positive rate')\n",
    "plt.title(\"ROC curve of classification\")\n",
    "plt.xlim(0, 1.0)\n",
    "plt.ylim(0, 1.02)\n",
    "# plt.savefig(\"ROC_curve.png\")"
   ]
  },
  {
   "cell_type": "markdown",
   "metadata": {},
   "source": [
    "##### 3) 感度・特異度"
   ]
  },
  {
   "cell_type": "code",
   "execution_count": 40,
   "metadata": {},
   "outputs": [],
   "source": [
    "def clopper_pearson(k, n, digit, alpha = 0.95):\n",
    "    alpha2 = (1 - alpha) / 2\n",
    "    lower = stats.beta.ppf(alpha2, k, n - k + 1)\n",
    "    upper = stats.beta.ppf(1 - alpha2, k + 1, n - k)\n",
    "    return k, n, round(k/n, digit), (round(lower,digit), round(upper, digit))"
   ]
  },
  {
   "cell_type": "code",
   "execution_count": 44,
   "metadata": {},
   "outputs": [],
   "source": [
    "def sen_spe_ci_score(y_true, y_score, digit = 3, alpha = 0.95):\n",
    "    n1 = np.sum(y_true == 1)\n",
    "    k1 = len(np.intersect1d(np.where(y_true == 1), np.where(y_score >= 0.5)))\n",
    "    n0 = np.sum(y_true == 0)\n",
    "    k0 = len(np.intersect1d(np.where(y_true == 0), np.where(y_score < 0.5)))\n",
    "    return clopper_pearson(k1, n1, digit, alpha), clopper_pearson(k0, n0, digit, alpha) "
   ]
  },
  {
   "cell_type": "code",
   "execution_count": 45,
   "metadata": {},
   "outputs": [
    {
     "data": {
      "text/plain": [
       "((93, 99, 0.939, (0.873, 0.977)), (12, 15, 0.8, (0.519, 0.957)))"
      ]
     },
     "execution_count": 45,
     "metadata": {},
     "output_type": "execute_result"
    }
   ],
   "source": [
    "sen_spe_ci_score(df[\"tb\"], df[\"over01\"])"
   ]
  },
  {
   "cell_type": "markdown",
   "metadata": {},
   "source": [
    "### 多クラス分類\n",
    "1) AUC <br>\n",
    "2) ROC曲線 <br>\n",
    "ここまでは上に同じ <br>\n",
    "3) 感度・特異度 (AIの回答と実際の回答で比較) <br>\n",
    "4) 各クラスの正答率のCI <br>\n",
    "5) クロス集計表 <br>\n",
    "6) Color map <br>"
   ]
  },
  {
   "cell_type": "markdown",
   "metadata": {},
   "source": [
    "##### 3) 感度・特異度"
   ]
  },
  {
   "cell_type": "code",
   "execution_count": 49,
   "metadata": {},
   "outputs": [],
   "source": [
    "def clopper_pearson(k, n, digit, alpha = 0.95):\n",
    "    alpha2 = (1 - alpha) / 2\n",
    "    lower = stats.beta.ppf(alpha2, k, n - k + 1)\n",
    "    upper = stats.beta.ppf(1 - alpha2, k + 1, n - k)\n",
    "    return k, n, round(k/n, digit), (round(lower,digit), round(upper, digit))"
   ]
  },
  {
   "cell_type": "code",
   "execution_count": 47,
   "metadata": {},
   "outputs": [],
   "source": [
    "def sen_spe_ci_predict(y_true, y_predict, digit = 3, alpha = 0.95):\n",
    "    n1 = np.sum(y_true == 1)\n",
    "    k1 = len(np.intersect1d(np.where(y_true == 1), np.where(y_predict == 1)))\n",
    "    n0 = np.sum(y_true == 0)\n",
    "    k0 = len(np.intersect1d(np.where(y_true == 0), np.where(y_predict == 0)))\n",
    "    return clopper_pearson(k1, n1, digit, alpha), clopper_pearson(k0, n0, digit, alpha) "
   ]
  },
  {
   "cell_type": "code",
   "execution_count": 48,
   "metadata": {},
   "outputs": [
    {
     "data": {
      "text/plain": [
       "((92, 99, 0.929, (0.86, 0.971)), (14, 15, 0.933, (0.681, 0.998)))"
      ]
     },
     "execution_count": 48,
     "metadata": {},
     "output_type": "execute_result"
    }
   ],
   "source": [
    "sen_spe_ci_predict(df[\"tb\"], df[\"pb\"])"
   ]
  },
  {
   "cell_type": "markdown",
   "metadata": {},
   "source": [
    "##### 4) 各クラスの正答率"
   ]
  },
  {
   "cell_type": "code",
   "execution_count": 53,
   "metadata": {},
   "outputs": [],
   "source": [
    "def class_ci(y_true, y_predict, target, digit = 3, alpha = 0.95):\n",
    "    n = np.sum(y_true == target)\n",
    "    k = len(np.intersect1d(np.where(y_true == target), np.where(y_predict == target)))\n",
    "    return clopper_pearson(k, n, digit, alpha)"
   ]
  },
  {
   "cell_type": "code",
   "execution_count": 54,
   "metadata": {},
   "outputs": [
    {
     "name": "stdout",
     "output_type": "stream",
     "text": [
      "0 (14, 15, 0.933, (0.681, 0.998))\n",
      "1 (24, 28, 0.857, (0.673, 0.96))\n",
      "2 (12, 20, 0.6, (0.361, 0.809))\n",
      "3 (5, 11, 0.455, (0.167, 0.766))\n",
      "4 (6, 18, 0.333, (0.133, 0.59))\n",
      "5 (0, 8, 0.0, (nan, 0.369))\n",
      "6 (8, 14, 0.571, (0.289, 0.823))\n"
     ]
    }
   ],
   "source": [
    "n_classes = 7\n",
    "for n in range(n_classes):\n",
    "    print(n, class_ci(df[\"true\"], df[\"predict\"], n))"
   ]
  },
  {
   "cell_type": "markdown",
   "metadata": {},
   "source": [
    "##### 5) クロス集計表"
   ]
  },
  {
   "cell_type": "code",
   "execution_count": 59,
   "metadata": {},
   "outputs": [
    {
     "data": {
      "text/html": [
       "<div>\n",
       "<style scoped>\n",
       "    .dataframe tbody tr th:only-of-type {\n",
       "        vertical-align: middle;\n",
       "    }\n",
       "\n",
       "    .dataframe tbody tr th {\n",
       "        vertical-align: top;\n",
       "    }\n",
       "\n",
       "    .dataframe thead th {\n",
       "        text-align: right;\n",
       "    }\n",
       "</style>\n",
       "<table border=\"1\" class=\"dataframe\">\n",
       "  <thead>\n",
       "    <tr style=\"text-align: right;\">\n",
       "      <th>true</th>\n",
       "      <th>00</th>\n",
       "      <th>01</th>\n",
       "      <th>02</th>\n",
       "      <th>03</th>\n",
       "      <th>04</th>\n",
       "      <th>05</th>\n",
       "      <th>06</th>\n",
       "    </tr>\n",
       "    <tr>\n",
       "      <th>predict</th>\n",
       "      <th></th>\n",
       "      <th></th>\n",
       "      <th></th>\n",
       "      <th></th>\n",
       "      <th></th>\n",
       "      <th></th>\n",
       "      <th></th>\n",
       "    </tr>\n",
       "  </thead>\n",
       "  <tbody>\n",
       "    <tr>\n",
       "      <th>00</th>\n",
       "      <td>14</td>\n",
       "      <td>1</td>\n",
       "      <td>0</td>\n",
       "      <td>1</td>\n",
       "      <td>0</td>\n",
       "      <td>2</td>\n",
       "      <td>3</td>\n",
       "    </tr>\n",
       "    <tr>\n",
       "      <th>01</th>\n",
       "      <td>0</td>\n",
       "      <td>24</td>\n",
       "      <td>0</td>\n",
       "      <td>0</td>\n",
       "      <td>3</td>\n",
       "      <td>0</td>\n",
       "      <td>1</td>\n",
       "    </tr>\n",
       "    <tr>\n",
       "      <th>02</th>\n",
       "      <td>0</td>\n",
       "      <td>1</td>\n",
       "      <td>12</td>\n",
       "      <td>0</td>\n",
       "      <td>0</td>\n",
       "      <td>0</td>\n",
       "      <td>2</td>\n",
       "    </tr>\n",
       "    <tr>\n",
       "      <th>03</th>\n",
       "      <td>0</td>\n",
       "      <td>0</td>\n",
       "      <td>2</td>\n",
       "      <td>5</td>\n",
       "      <td>5</td>\n",
       "      <td>2</td>\n",
       "      <td>0</td>\n",
       "    </tr>\n",
       "    <tr>\n",
       "      <th>04</th>\n",
       "      <td>0</td>\n",
       "      <td>1</td>\n",
       "      <td>2</td>\n",
       "      <td>1</td>\n",
       "      <td>6</td>\n",
       "      <td>1</td>\n",
       "      <td>0</td>\n",
       "    </tr>\n",
       "    <tr>\n",
       "      <th>05</th>\n",
       "      <td>1</td>\n",
       "      <td>1</td>\n",
       "      <td>3</td>\n",
       "      <td>3</td>\n",
       "      <td>0</td>\n",
       "      <td>0</td>\n",
       "      <td>0</td>\n",
       "    </tr>\n",
       "    <tr>\n",
       "      <th>06</th>\n",
       "      <td>0</td>\n",
       "      <td>0</td>\n",
       "      <td>1</td>\n",
       "      <td>1</td>\n",
       "      <td>4</td>\n",
       "      <td>3</td>\n",
       "      <td>8</td>\n",
       "    </tr>\n",
       "  </tbody>\n",
       "</table>\n",
       "</div>"
      ],
      "text/plain": [
       "true     00  01  02  03  04  05  06\n",
       "predict                            \n",
       "00       14   1   0   1   0   2   3\n",
       "01        0  24   0   0   3   0   1\n",
       "02        0   1  12   0   0   0   2\n",
       "03        0   0   2   5   5   2   0\n",
       "04        0   1   2   1   6   1   0\n",
       "05        1   1   3   3   0   0   0\n",
       "06        0   0   1   1   4   3   8"
      ]
     },
     "execution_count": 59,
     "metadata": {},
     "output_type": "execute_result"
    }
   ],
   "source": [
    "cols =  [\"00\", \"01\", \"02\", \"03\", \"04\", \"05\", \"06\"]\n",
    "dic = {}\n",
    "for i, col in enumerate(cols):\n",
    "    dic[i] = col\n",
    "cross = pd.crosstab(df[\"predict\"], df[\"true\"])\n",
    "cross = cross.rename(columns=dic)\n",
    "cross = cross.rename(index=dic)\n",
    "cross"
   ]
  },
  {
   "cell_type": "markdown",
   "metadata": {},
   "source": [
    "##### 6) Color Map"
   ]
  },
  {
   "cell_type": "code",
   "execution_count": 63,
   "metadata": {},
   "outputs": [
    {
     "data": {
      "text/html": [
       "<div>\n",
       "<style scoped>\n",
       "    .dataframe tbody tr th:only-of-type {\n",
       "        vertical-align: middle;\n",
       "    }\n",
       "\n",
       "    .dataframe tbody tr th {\n",
       "        vertical-align: top;\n",
       "    }\n",
       "\n",
       "    .dataframe thead th {\n",
       "        text-align: right;\n",
       "    }\n",
       "</style>\n",
       "<table border=\"1\" class=\"dataframe\">\n",
       "  <thead>\n",
       "    <tr style=\"text-align: right;\">\n",
       "      <th>true</th>\n",
       "      <th>00</th>\n",
       "      <th>01</th>\n",
       "      <th>02</th>\n",
       "      <th>03</th>\n",
       "      <th>04</th>\n",
       "      <th>05</th>\n",
       "      <th>06</th>\n",
       "    </tr>\n",
       "    <tr>\n",
       "      <th>predict</th>\n",
       "      <th></th>\n",
       "      <th></th>\n",
       "      <th></th>\n",
       "      <th></th>\n",
       "      <th></th>\n",
       "      <th></th>\n",
       "      <th></th>\n",
       "    </tr>\n",
       "  </thead>\n",
       "  <tbody>\n",
       "    <tr>\n",
       "      <th>00</th>\n",
       "      <td>0.933333</td>\n",
       "      <td>0.035714</td>\n",
       "      <td>0.00</td>\n",
       "      <td>0.090909</td>\n",
       "      <td>0.000000</td>\n",
       "      <td>0.250</td>\n",
       "      <td>0.214286</td>\n",
       "    </tr>\n",
       "    <tr>\n",
       "      <th>01</th>\n",
       "      <td>0.000000</td>\n",
       "      <td>0.857143</td>\n",
       "      <td>0.00</td>\n",
       "      <td>0.000000</td>\n",
       "      <td>0.166667</td>\n",
       "      <td>0.000</td>\n",
       "      <td>0.071429</td>\n",
       "    </tr>\n",
       "    <tr>\n",
       "      <th>02</th>\n",
       "      <td>0.000000</td>\n",
       "      <td>0.035714</td>\n",
       "      <td>0.60</td>\n",
       "      <td>0.000000</td>\n",
       "      <td>0.000000</td>\n",
       "      <td>0.000</td>\n",
       "      <td>0.142857</td>\n",
       "    </tr>\n",
       "    <tr>\n",
       "      <th>03</th>\n",
       "      <td>0.000000</td>\n",
       "      <td>0.000000</td>\n",
       "      <td>0.10</td>\n",
       "      <td>0.454545</td>\n",
       "      <td>0.277778</td>\n",
       "      <td>0.250</td>\n",
       "      <td>0.000000</td>\n",
       "    </tr>\n",
       "    <tr>\n",
       "      <th>04</th>\n",
       "      <td>0.000000</td>\n",
       "      <td>0.035714</td>\n",
       "      <td>0.10</td>\n",
       "      <td>0.090909</td>\n",
       "      <td>0.333333</td>\n",
       "      <td>0.125</td>\n",
       "      <td>0.000000</td>\n",
       "    </tr>\n",
       "    <tr>\n",
       "      <th>05</th>\n",
       "      <td>0.066667</td>\n",
       "      <td>0.035714</td>\n",
       "      <td>0.15</td>\n",
       "      <td>0.272727</td>\n",
       "      <td>0.000000</td>\n",
       "      <td>0.000</td>\n",
       "      <td>0.000000</td>\n",
       "    </tr>\n",
       "    <tr>\n",
       "      <th>06</th>\n",
       "      <td>0.000000</td>\n",
       "      <td>0.000000</td>\n",
       "      <td>0.05</td>\n",
       "      <td>0.090909</td>\n",
       "      <td>0.222222</td>\n",
       "      <td>0.375</td>\n",
       "      <td>0.571429</td>\n",
       "    </tr>\n",
       "  </tbody>\n",
       "</table>\n",
       "</div>"
      ],
      "text/plain": [
       "true           00        01    02        03        04     05        06\n",
       "predict                                                               \n",
       "00       0.933333  0.035714  0.00  0.090909  0.000000  0.250  0.214286\n",
       "01       0.000000  0.857143  0.00  0.000000  0.166667  0.000  0.071429\n",
       "02       0.000000  0.035714  0.60  0.000000  0.000000  0.000  0.142857\n",
       "03       0.000000  0.000000  0.10  0.454545  0.277778  0.250  0.000000\n",
       "04       0.000000  0.035714  0.10  0.090909  0.333333  0.125  0.000000\n",
       "05       0.066667  0.035714  0.15  0.272727  0.000000  0.000  0.000000\n",
       "06       0.000000  0.000000  0.05  0.090909  0.222222  0.375  0.571429"
      ]
     },
     "execution_count": 63,
     "metadata": {},
     "output_type": "execute_result"
    }
   ],
   "source": [
    "# 比率によるクロス集計表を作成\n",
    "cols =  [\"00\", \"01\", \"02\", \"03\", \"04\", \"05\", \"06\"]\n",
    "dic = {}\n",
    "for i, col in enumerate(cols):\n",
    "    dic[i] = col\n",
    "cross = pd.crosstab(df[\"predict\"], df[\"true\"], normalize=\"columns\")\n",
    "cross = cross.rename(columns=dic)\n",
    "cross = cross.rename(index=dic)\n",
    "cross"
   ]
  },
  {
   "cell_type": "code",
   "execution_count": 62,
   "metadata": {},
   "outputs": [
    {
     "data": {
      "text/plain": [
       "<matplotlib.axes._subplots.AxesSubplot at 0x123fc8668>"
      ]
     },
     "execution_count": 62,
     "metadata": {},
     "output_type": "execute_result"
    },
    {
     "data": {
      "image/png": "[encoded data removed]",
      "text/plain": [
       "<Figure size 432x288 with 2 Axes>"
      ]
     },
     "metadata": {},
     "output_type": "display_data"
    }
   ],
   "source": [
    "sns.heatmap(cross, annot=True)\n",
    "# plt.savefig(\"crosstab.png\")"
   ]
  },
  {
   "cell_type": "markdown",
   "metadata": {},
   "source": [
    "### 回帰\n",
    "1) plot <br>\n",
    "2) 相関係数<br>"
   ]
  },
  {
   "cell_type": "markdown",
   "metadata": {},
   "source": [
    "今回はデータセットの都合上、over01とover02の相関について議論する"
   ]
  },
  {
   "cell_type": "markdown",
   "metadata": {},
   "source": [
    "##### 1) plot"
   ]
  },
  {
   "cell_type": "code",
   "execution_count": 98,
   "metadata": {},
   "outputs": [
    {
     "data": {
      "text/plain": [
       "(0, 1.02)"
      ]
     },
     "execution_count": 98,
     "metadata": {},
     "output_type": "execute_result"
    },
    {
     "data": {
      "image/png": "[encoded data removed]",
      "text/plain": [
       "<Figure size 432x288 with 1 Axes>"
      ]
     },
     "metadata": {},
     "output_type": "display_data"
    }
   ],
   "source": [
    "fpr, tpr, thresholds = roc_curve(df[\"tb\"], df[\"over01\"])\n",
    "sns.set_style(\"ticks\")\n",
    "sns.scatterplot(data=df, x='over01', y='over02')\n",
    "sns.despine()\n",
    "plt.title(\"Cor\")\n",
    "plt.xlim(0, 1.02)\n",
    "plt.ylim(0, 1.02)\n",
    "# plt.savefig(\"ROC_curve.png\")"
   ]
  },
  {
   "cell_type": "markdown",
   "metadata": {},
   "source": [
    "##### 2) 相関係数"
   ]
  },
  {
   "cell_type": "code",
   "execution_count": 101,
   "metadata": {},
   "outputs": [],
   "source": [
    "def corr_CI(a, b, alpha = 0.95):\n",
    "    r = stats.pearsonr(a, b)[0]\n",
    "    n = len(a)\n",
    "    if n <= 3:\n",
    "        AssertionError(\"Not enough amount data\")\n",
    "    z= 0.5*np.log((1+r)/(1-r))\n",
    "    za = stats.norm.ppf(0.5 + 0.5 * alpha) \n",
    "    zl = z - za * sqrt(1/(n-3))\n",
    "    zu = z + za * sqrt(1/(n-3))\n",
    "    rhol = (exp(2 * zl) - 1 )/ (exp(2 * zl) +1 )\n",
    "    rhou = (exp(2 * zu) - 1 )/ (exp(2 * zu) +1 )\n",
    "    return r, rhol, rhou"
   ]
  },
  {
   "cell_type": "code",
   "execution_count": 103,
   "metadata": {},
   "outputs": [
    {
     "data": {
      "text/plain": [
       "(0.5495549338116301, 0.40675097591900805, 0.6661419155573262)"
      ]
     },
     "execution_count": 103,
     "metadata": {},
     "output_type": "execute_result"
    }
   ],
   "source": [
    "corr_CI(df[\"over01\"], df[\"over02\"])"
   ]
  },
  {
   "cell_type": "code",
   "execution_count": null,
   "metadata": {},
   "outputs": [],
   "source": []
  }
 ],
 "metadata": {
  "kernelspec": {
   "display_name": "Python 3",
   "language": "python",
   "name": "python3"
  },
  "language_info": {
   "codemirror_mode": {
    "name": "ipython",
    "version": 3
   },
   "file_extension": ".py",
   "mimetype": "text/x-python",
   "name": "python",
   "nbconvert_exporter": "python",
   "pygments_lexer": "ipython3",
   "version": "3.5.4"
  },
  "latex_envs": {
   "LaTeX_envs_menu_present": true,
   "autoclose": false,
   "autocomplete": true,
   "bibliofile": "biblio.bib",
   "cite_by": "apalike",
   "current_citInitial": 1,
   "eqLabelWithNumbers": true,
   "eqNumInitial": 1,
   "hotkeys": {
    "equation": "Ctrl-E",
    "itemize": "Ctrl-I"
   },
   "labels_anchors": false,
   "latex_user_defs": false,
   "report_style_numbering": false,
   "user_envs_cfg": false
  }
 },
 "nbformat": 4,
 "nbformat_minor": 2
}
